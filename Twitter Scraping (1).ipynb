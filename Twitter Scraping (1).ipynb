{
 "cells": [
  {
   "cell_type": "code",
   "execution_count": null,
   "id": "33f0b5cb",
   "metadata": {},
   "outputs": [],
   "source": [
    "!pip install ntscraper"
   ]
  },
  {
   "cell_type": "code",
   "execution_count": 5,
   "id": "8b2d13f2",
   "metadata": {},
   "outputs": [],
   "source": [
    "import pandas as pd\n",
    "from ntscraper import Nitter"
   ]
  },
  {
   "cell_type": "code",
   "execution_count": 6,
   "id": "7027730d",
   "metadata": {},
   "outputs": [
    {
     "name": "stderr",
     "output_type": "stream",
     "text": [
      "Testing instances: 100%|███████████████████████████████████████████████████████████████| 28/28 [01:15<00:00,  2.70s/it]\n"
     ]
    }
   ],
   "source": [
    "scraper = Nitter()"
   ]
  },
  {
   "cell_type": "code",
   "execution_count": 32,
   "id": "9ffe29d4",
   "metadata": {},
   "outputs": [
    {
     "name": "stdout",
     "output_type": "stream",
     "text": [
      "23-Nov-23 12:52:34 - No instance specified, using random instance https://n.populas.no\n",
      "23-Nov-23 12:52:41 - Current stats for bigdataaviation: 3 tweets, 0 threads...\n"
     ]
    }
   ],
   "source": [
    "tweets = scraper.get_tweets(\"bigdataaviation\",mode='hashtag',number=200)"
   ]
  },
  {
   "cell_type": "code",
   "execution_count": 33,
   "id": "8624a80b",
   "metadata": {},
   "outputs": [],
   "source": [
    "final_tweets = []\n",
    "\n",
    "for tweet in tweets['tweets']:\n",
    "    data = [tweet['date'], tweet['text']]\n",
    "    final_tweets.append(data)"
   ]
  },
  {
   "cell_type": "code",
   "execution_count": 34,
   "id": "f2918975",
   "metadata": {},
   "outputs": [],
   "source": [
    "data = pd.DataFrame(final_tweets, columns = ['Date','Tweet'])"
   ]
  },
  {
   "cell_type": "code",
   "execution_count": 35,
   "id": "2fb71c59",
   "metadata": {},
   "outputs": [
    {
     "data": {
      "text/html": [
       "<div>\n",
       "<style scoped>\n",
       "    .dataframe tbody tr th:only-of-type {\n",
       "        vertical-align: middle;\n",
       "    }\n",
       "\n",
       "    .dataframe tbody tr th {\n",
       "        vertical-align: top;\n",
       "    }\n",
       "\n",
       "    .dataframe thead th {\n",
       "        text-align: right;\n",
       "    }\n",
       "</style>\n",
       "<table border=\"1\" class=\"dataframe\">\n",
       "  <thead>\n",
       "    <tr style=\"text-align: right;\">\n",
       "      <th></th>\n",
       "      <th>Date</th>\n",
       "      <th>Tweet</th>\n",
       "    </tr>\n",
       "  </thead>\n",
       "  <tbody>\n",
       "    <tr>\n",
       "      <th>0</th>\n",
       "      <td>Nov 2, 2020 · 5:50 PM UTC</td>\n",
       "      <td>#Safety #BigDataAviation #StableApproaches</td>\n",
       "    </tr>\n",
       "    <tr>\n",
       "      <th>1</th>\n",
       "      <td>Oct 21, 2020 · 2:31 PM UTC</td>\n",
       "      <td>This is an important point &amp; one that may not ...</td>\n",
       "    </tr>\n",
       "    <tr>\n",
       "      <th>2</th>\n",
       "      <td>Apr 25, 2018 · 4:30 PM UTC</td>\n",
       "      <td>&lt;&lt;&lt;MRO: \"Finding connections across disparate ...</td>\n",
       "    </tr>\n",
       "  </tbody>\n",
       "</table>\n",
       "</div>"
      ],
      "text/plain": [
       "                         Date  \\\n",
       "0   Nov 2, 2020 · 5:50 PM UTC   \n",
       "1  Oct 21, 2020 · 2:31 PM UTC   \n",
       "2  Apr 25, 2018 · 4:30 PM UTC   \n",
       "\n",
       "                                               Tweet  \n",
       "0         #Safety #BigDataAviation #StableApproaches  \n",
       "1  This is an important point & one that may not ...  \n",
       "2  <<<MRO: \"Finding connections across disparate ...  "
      ]
     },
     "execution_count": 35,
     "metadata": {},
     "output_type": "execute_result"
    }
   ],
   "source": [
    "data"
   ]
  },
  {
   "cell_type": "code",
   "execution_count": 36,
   "id": "666568b1",
   "metadata": {},
   "outputs": [],
   "source": [
    "data.to_csv(r\"location\\Twitter Scraping.csv\",mode='a',index=False,header=False)"
   ]
  },
  {
   "cell_type": "code",
   "execution_count": null,
   "id": "6a00aa40",
   "metadata": {},
   "outputs": [],
   "source": []
  }
 ],
 "metadata": {
  "kernelspec": {
   "display_name": "Python 3 (ipykernel)",
   "language": "python",
   "name": "python3"
  },
  "language_info": {
   "codemirror_mode": {
    "name": "ipython",
    "version": 3
   },
   "file_extension": ".py",
   "mimetype": "text/x-python",
   "name": "python",
   "nbconvert_exporter": "python",
   "pygments_lexer": "ipython3",
   "version": "3.10.9"
  }
 },
 "nbformat": 4,
 "nbformat_minor": 5
}
